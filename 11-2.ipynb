{
  "nbformat": 4,
  "nbformat_minor": 0,
  "metadata": {
    "colab": {
      "name": "Untitled1.ipynb",
      "version": "0.3.2",
      "provenance": [],
      "include_colab_link": true
    },
    "kernelspec": {
      "name": "python3",
      "display_name": "Python 3"
    }
  },
  "cells": [
    {
      "cell_type": "markdown",
      "metadata": {
        "id": "view-in-github",
        "colab_type": "text"
      },
      "source": [
        "<a href=\"https://colab.research.google.com/github/cpuman7/tensorflow_example/blob/master/11-2.ipynb\" target=\"_parent\"><img src=\"https://colab.research.google.com/assets/colab-badge.svg\" alt=\"Open In Colab\"/></a>"
      ]
    },
    {
      "cell_type": "code",
      "metadata": {
        "id": "SBFD6J98njGx",
        "colab_type": "code",
        "colab": {
          "base_uri": "https://localhost:8080/",
          "height": 868
        },
        "outputId": "219b80a7-e406-458a-b61b-dcd2ef0abb94"
      },
      "source": [
        "import tensorflow as tf\n",
        "tf.reset_default_graph()\n",
        "import numpy as np\n",
        "import matplotlib.pyplot as plt\n",
        "import random\n",
        "\n",
        "from tensorflow.examples.tutorials.mnist import input_data\n",
        "\n",
        "tf.set_random_seed(777)\n",
        "\n",
        "mnist = input_data.read_data_sets(\"MNIST_data/\", one_hot=True)\n",
        "\n",
        "learning_rate = 0.001  #학습률\n",
        "training_epochs = 15  #epoch: 15\n",
        "batch_size = 100  #배치 사이즈: 100\n",
        "\n",
        "keep_prob = tf.placeholder(tf.float32)  #drop out  수치, 학습 시 0.5~0.7, 검증 시 1\n",
        "\n",
        "X = tf.placeholder(tf.float32, [None, 784])\n",
        "X_img = tf.reshape(X, [-1, 28, 28, 1])  # 28*28*1사이즈로 reshape\n",
        "Y = tf.placeholder(tf.float32, [None, 10])  # 출력 갯수 0~9로 10개\n",
        "\n",
        "W1 = tf.Variable(tf.random_normal([3, 3, 1, 32], stddev=0.01))  #filter size: 3(X)*3(Y)*1(C), fiter 갯수: 32, 표준편차: 0.01\n",
        "L1 = tf.nn.conv2d(X_img, W1, strides=[1,1,1,1], padding='SAME')  #stride: 1*1, strides의 [0]과 [3]은 무조건 1\n",
        "#Image Shape:(?, 28, 28, 32)\n",
        "L1 = tf.nn.relu(L1)  #활성화 함수: ReLU\n",
        "#Image Shape:(?, 28, 28, 32)\n",
        "L1 = tf.nn.max_pool(L1, ksize=[1, 2, 2, 1], strides = [1, 2, 2, 1], padding='SAME')  #MaxPooling, kernel size: 2*2*1, stride: 2*2*1\n",
        "#Image Shape:(?, 14, 14, 32)\n",
        "L1 = tf.nn.dropout(L1, keep_prob=keep_prob)  #DropOut\n",
        "#Image Shape:(?, 14, 14, 32)\n",
        "\n",
        "W2 = tf.Variable(tf.random_normal([3, 3, 32, 64], stddev=0.01))  #filter size: 3*3*32(Layer1에서 32개의 filter로 생성했기 때문), filter 갯수: 64\n",
        "L2 = tf.nn.conv2d(L1, W2, strides=[1, 1, 1, 1], padding='SAME')  #stride: 1*1\n",
        "#Image Shape:(?, 14, 14, 64)\n",
        "L2 = tf.nn.relu(L2)  #활성화 함수: ReLU\n",
        "#Image Shape:(?, 14, 14, 64)\n",
        "L2 = tf.nn.max_pool(L2, ksize=[1, 2, 2, 1], strides=[1, 2, 2, 1], padding='SAME')  #MaxPooling, kernel size: 2*2*1, stride: 2*2*1\n",
        "#Image Shape:(?, 7, 7, 64)\n",
        "L2 = tf.nn.dropout(L2, keep_prob=keep_prob)  #DropOut\n",
        "#Image Shape:(?, 7, 7, 64)\n",
        "\n",
        "W3 = tf.Variable(tf.random_normal([3, 3, 64, 128], stddev=0.01))  #filter size: 3*3*64(Layer2에서 64개의 filter로 생성했기 때문),filter 갯수: 128\n",
        "L3 = tf.nn.conv2d(L2, W3, strides = [1, 1, 1, 1], padding='SAME')  #stride: 1*1\n",
        "#Image Shape:(?, 7, 7, 128)\n",
        "L3 = tf.nn.relu(L3)  #활성화 함수: ReLU\n",
        "#Image Shape:(?, 7, 7, 128)\n",
        "L3 = tf.nn.max_pool(L3, ksize=[1, 2, 2, 1], strides=[1, 2, 2, 1], padding='SAME')  #MaxPooling, kernel size: 2*2*1, stride: 2*2*1\n",
        "#Image Shape:(?, 4, 4, 128)\n",
        "L3 = tf.nn.dropout(L3, keep_prob=keep_prob)  #DropOut\n",
        "#Image Shape:(?, 4, 4, 128)\n",
        "L3_flat = tf.reshape(L3, [-1, 128 * 4 * 4])\n",
        "#Image Shape:(?, 2048)\n",
        "\n",
        "W4 = tf.get_variable(\"W4\", shape=[128 * 4 * 4, 625], initializer=tf.contrib.layers.xavier_initializer())  #Input size: 2048, Output size: 625, Initializer: Xavier\n",
        "b4 = tf.Variable(tf.random_normal([625]))\n",
        "L4 = tf.nn.relu(tf.matmul(L3_flat, W4) + b4)  #활성화함수: ReLU\n",
        "L4 = tf.nn.dropout(L4, keep_prob=keep_prob)  #DropOut\n",
        "\n",
        "W5 = tf.get_variable(\"W5\", shape=[625, 10], initializer=tf.contrib.layers.xavier_initializer())  #Input size: 625, Output size: 10, Initializer: Xavier\n",
        "b5 = tf.Variable(tf.random_normal([10]))\n",
        "logits = tf.matmul(L4, W5) + b5\n",
        "\n",
        "#Cost Function\n",
        "cost = tf.reduce_mean(tf.nn.softmax_cross_entropy_with_logits(logits=logits, labels=Y))\n",
        "optimizer = tf.train.AdamOptimizer(learning_rate=learning_rate).minimize(cost)  #Optimizer: Adam\n",
        "\n",
        "#Initialize\n",
        "sess = tf.Session()\n",
        "sess.run(tf.global_variables_initializer())\n",
        "\n",
        "#Training\n",
        "print('Learning started')\n",
        "for epoch in range(training_epochs):\n",
        "  avg_cost = 0\n",
        "  total_batch = int(mnist.train.num_examples / batch_size)\n",
        "  \n",
        "  for i in range(total_batch):\n",
        "    batch_xs, batch_ys = mnist.train.next_batch(batch_size)\n",
        "    feed_dict = {X: batch_xs, Y: batch_ys, keep_prob: 0.7}\n",
        "    c, _ = sess.run([cost, optimizer], feed_dict=feed_dict)\n",
        "    avg_cost += c / total_batch\n",
        "    \n",
        "  print('Epoch: ', '%04d' % (epoch + 1), 'cost = ', '{:.9f}'.format(avg_cost))\n",
        "  \n",
        "print('Learning Finished')\n",
        "\n",
        "#Check Accuracy\n",
        "correct_prediction = tf.equal(tf.argmax(logits, 1), tf.argmax(Y, 1))\n",
        "accuracy = tf.reduce_mean(tf.cast(correct_prediction, tf.float32))\n",
        "print('Accuracy:', sess.run(accuracy, feed_dict={\n",
        "      X: mnist.test.images, Y: mnist.test.labels, keep_prob: 1}))\n",
        "\n",
        "# Get one and predict\n",
        "r = random.randint(0, mnist.test.num_examples - 1)\n",
        "print(\"Label: \", sess.run(tf.argmax(mnist.test.labels[r:r + 1], 1)))\n",
        "print(\"Prediction: \", sess.run(\n",
        "    tf.argmax(logits, 1), feed_dict={X: mnist.test.images[r:r + 1], keep_prob: 1}))\n",
        "\n",
        "plt.imshow(mnist.test.images[r:r + 1].\n",
        "reshape(28, 28), cmap='Greys', interpolation='nearest')\n",
        "plt.show()"
      ],
      "execution_count": 19,
      "outputs": [
        {
          "output_type": "stream",
          "text": [
            "Extracting MNIST_data/train-images-idx3-ubyte.gz\n",
            "Extracting MNIST_data/train-labels-idx1-ubyte.gz\n",
            "Extracting MNIST_data/t10k-images-idx3-ubyte.gz\n",
            "Extracting MNIST_data/t10k-labels-idx1-ubyte.gz\n"
          ],
          "name": "stdout"
        },
        {
          "output_type": "stream",
          "text": [
            "W0819 09:01:50.229657 139979963922304 deprecation.py:323] From <ipython-input-19-030012b00c7c>:65: softmax_cross_entropy_with_logits (from tensorflow.python.ops.nn_ops) is deprecated and will be removed in a future version.\n",
            "Instructions for updating:\n",
            "\n",
            "Future major versions of TensorFlow will allow gradients to flow\n",
            "into the labels input on backprop by default.\n",
            "\n",
            "See `tf.nn.softmax_cross_entropy_with_logits_v2`.\n",
            "\n"
          ],
          "name": "stderr"
        },
        {
          "output_type": "stream",
          "text": [
            "Learning started\n",
            "Epoch:  0001 cost =  0.365652760\n",
            "Epoch:  0002 cost =  0.102024115\n",
            "Epoch:  0003 cost =  0.073605365\n",
            "Epoch:  0004 cost =  0.060561172\n",
            "Epoch:  0005 cost =  0.050102010\n",
            "Epoch:  0006 cost =  0.045606690\n",
            "Epoch:  0007 cost =  0.043939578\n",
            "Epoch:  0008 cost =  0.038386950\n",
            "Epoch:  0009 cost =  0.035203932\n",
            "Epoch:  0010 cost =  0.035286386\n",
            "Epoch:  0011 cost =  0.029418148\n",
            "Epoch:  0012 cost =  0.030336113\n",
            "Epoch:  0013 cost =  0.028220017\n",
            "Epoch:  0014 cost =  0.025865923\n",
            "Epoch:  0015 cost =  0.025325084\n",
            "Learning Finished\n",
            "Accuracy: 0.9938\n",
            "Label:  [8]\n",
            "Prediction:  [8]\n"
          ],
          "name": "stdout"
        },
        {
          "output_type": "display_data",
          "data": {
            "image/png": "[encoded data removed]",
            "text/plain": [
              "<Figure size 432x288 with 1 Axes>"
            ]
          },
          "metadata": {
            "tags": []
          }
        }
      ]
    }
  ]
}